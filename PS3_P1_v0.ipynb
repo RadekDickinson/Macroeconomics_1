{
 "cells": [
  {
   "cell_type": "code",
   "execution_count": 70,
   "metadata": {},
   "outputs": [],
   "source": [
    "import numpy as np\n",
    "import matplotlib.pyplot as plt\n",
    "from scipy.optimize import minimize"
   ]
  },
  {
   "cell_type": "markdown",
   "metadata": {},
   "source": [
    "inputs: v0, parameters of target function and constraint\n",
    "outputs: parameters of optimal policy function and value function"
   ]
  },
  {
   "cell_type": "code",
   "execution_count": 98,
   "metadata": {},
   "outputs": [],
   "source": [
    "class Model:\n",
    "    \n",
    "    def __init__(self, α=0.4, δ=0.04, σ=1, β=0.96, ϵ=0.0001, k_interval=[5,20], vn = 0):\n",
    "        self.α, self.δ, self.σ, self.β, self.ϵ, self.k_interval, self.v0 = α, δ, σ, β, ϵ, k_interval, v0\n",
    "        self.θ, self.μ, self.γ = 0,1,0\n",
    "        self.ks = np.linspace(5,20,1000)\n",
    "        \n",
    "    def LMC(kt, ct):\n",
    "        α, δ, σ, β, ϵ = self.α, self.δ, self.σ, self.β, self.ϵ\n",
    "        return kt**α + (1-δ)*kt-ct\n",
    "    \n",
    "    def optimal_policy_ftion(self):\n",
    "        k = self.ks\n",
    "        α = self.α\n",
    "        θ = self.θ\n",
    "        return θ*k**α\n",
    "\n",
    "    def value_function(self):\n",
    "        k = self.ks\n",
    "        α = self.α\n",
    "        θ = self.θ\n",
    "        γ = self.γ\n",
    "        k = np.where(k==0, 1, k)\n",
    "        return α*μ*np.log(k)+γ\n",
    "    \n",
    "    def bellman(self, k_prime):\n",
    "        k = self.ks\n",
    "        α = self.α\n",
    "        β = self.β\n",
    "#         k_prime = self.optimal_policy_ftion(k)\n",
    "        v0 = self.v0        \n",
    "        return np.log(k**α-k_prime)+β*v0\n",
    "\n",
    "mod = Model()\n"
   ]
  },
  {
   "cell_type": "code",
   "execution_count": null,
   "metadata": {},
   "outputs": [],
   "source": []
  }
 ],
 "metadata": {
  "kernelspec": {
   "display_name": "Python 3",
   "language": "python",
   "name": "python3"
  },
  "language_info": {
   "codemirror_mode": {
    "name": "ipython",
    "version": 3
   },
   "file_extension": ".py",
   "mimetype": "text/x-python",
   "name": "python",
   "nbconvert_exporter": "python",
   "pygments_lexer": "ipython3",
   "version": "3.6.5"
  }
 },
 "nbformat": 4,
 "nbformat_minor": 2
}
