{
 "cells": [
  {
   "cell_type": "code",
   "execution_count": 100,
   "metadata": {},
   "outputs": [],
   "source": [
    "import pandas as pd\n",
    "import numpy as np\n",
    "import statsmodels.formula.api as smf\n",
    "import matplotlib.pyplot as plt"
   ]
  },
  {
   "cell_type": "markdown",
   "metadata": {},
   "source": [
    "### Chapter 3\n",
    "#### 3.7"
   ]
  },
  {
   "cell_type": "code",
   "execution_count": 99,
   "metadata": {},
   "outputs": [
    {
     "name": "stdout",
     "output_type": "stream",
     "text": [
      "log(wage) = 0.698 + 0.155 education\n"
     ]
    }
   ],
   "source": [
    "df = pd.read_stata('cps09mar.dta')\n",
    "df['experience'] = df.age - df.education - 6\n",
    "df['wage'] = np.log(df.earnings/(df.hours*df.week))\n",
    "df['exp^2'] = df.experience**2/100\n",
    "\n",
    "# married, black, female with 12 years potential work experience\n",
    "# N=20\n",
    "\n",
    "df1 = df[(df.female==1) & (df.race==2) \n",
    "           & (df.marital<=2) & (df.experience==12)]\n",
    "\n",
    "# wage ~ education\n",
    "y = np.matrix(df1.wage).T\n",
    "X = np.matrix([np.ones(len(subdf)), df1.education])\n",
    "\n",
    "numerator = X@y\n",
    "# print(numerator)\n",
    "denominator = X@X.T\n",
    "# print(denominator)\n",
    "\n",
    "result = np.linalg.inv(denominator)@numerator\n",
    "a, b = result[0,0], result[1,0]\n",
    "print(f'log(wage) = {a:.3f} + {b:.3f} education')\n",
    "\n",
    "mod = smf.ols(formula='wage ~ education', data=df1).fit()\n",
    "a,b = mod.params"
   ]
  },
  {
   "cell_type": "markdown",
   "metadata": {},
   "source": [
    "#### 3.18"
   ]
  },
  {
   "cell_type": "code",
   "execution_count": 137,
   "metadata": {},
   "outputs": [],
   "source": [
    "xs = np.random.uniform(1,10, size=25)\n",
    "ys = np.empty(len(xs))\n",
    "\n",
    "for i, x in enumerate(xs):\n",
    "    ys[i] = np.random.normal(loc=x, scale=2)"
   ]
  },
  {
   "cell_type": "code",
   "execution_count": 152,
   "metadata": {},
   "outputs": [
    {
     "data": {
      "image/png": "[encoded data removed]",
      "text/plain": [
       "<Figure size 648x432 with 1 Axes>"
      ]
     },
     "metadata": {},
     "output_type": "display_data"
    }
   ],
   "source": [
    "pnt = (9,0)\n",
    "\n",
    "# regress without\n",
    "b0, a0 = np.polyfit(xs,ys,1)\n",
    "reg1 = a0+b0*xs\n",
    "\n",
    "b1,a1 = np.polyfit(np.append(xs,9), np.append(ys,0),1)\n",
    "reg2 = a1+b1*xs\n",
    "\n",
    "fig, ax = plt.subplots(figsize=(9,6))\n",
    "\n",
    "ax.scatter(xs, ys, facecolor='None', edgecolor='b')\n",
    "ax.scatter(9,0, c='k')\n",
    "ax.plot(xs, reg1)\n",
    "ax.plot(xs, reg2, ls='dashed', alpha=0.5)\n",
    "\n",
    "plt.show()"
   ]
  }
 ],
 "metadata": {
  "kernelspec": {
   "display_name": "Python 3",
   "language": "python",
   "name": "python3"
  },
  "language_info": {
   "codemirror_mode": {
    "name": "ipython",
    "version": 3
   },
   "file_extension": ".py",
   "mimetype": "text/x-python",
   "name": "python",
   "nbconvert_exporter": "python",
   "pygments_lexer": "ipython3",
   "version": "3.6.5"
  }
 },
 "nbformat": 4,
 "nbformat_minor": 2
}
